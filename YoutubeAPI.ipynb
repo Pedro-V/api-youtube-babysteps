{
  "nbformat": 4,
  "nbformat_minor": 0,
  "metadata": {
    "colab": {
      "name": "YoutubeAPI.ipynb",
      "provenance": [],
      "toc_visible": true,
      "authorship_tag": "ABX9TyNDAMLbIWq9NloyU8P2n8dp",
      "include_colab_link": true
    },
    "kernelspec": {
      "name": "python3",
      "display_name": "Python 3"
    },
    "language_info": {
      "name": "python"
    }
  },
  "cells": [
    {
      "cell_type": "markdown",
      "metadata": {
        "id": "view-in-github",
        "colab_type": "text"
      },
      "source": [
        "<a href=\"https://colab.research.google.com/github/Pedro-V/api-youtube-babysteps/blob/main/YoutubeAPI.ipynb\" target=\"_parent\"><img src=\"https://colab.research.google.com/assets/colab-badge.svg\" alt=\"Open In Colab\"/></a>"
      ]
    },
    {
      "cell_type": "markdown",
      "source": [
        "#Consumindo uma API do Youtube sobre dados\n",
        "Notebook super bobo, mas eu nunca tive muito contato com APIs. Fui entender o conceito recentemente e queria algo 'prático' pra entender mais ou menos como funciona. A API do Youtube nesse caso é a Youtube Data API v3 e talvez seja necessário incluí-la em seu projeto no Google Cloud Platform.\n",
        "\n",
        "Achei um vídeo legal do canal '**Programação Dinâmica**' (super recomendo) e resolvi replicar numa playlist de videos de um canal de aquário, **Foo the Flowerhorn** (também super recomendo!).\n"
      ],
      "metadata": {
        "id": "V1BcnWMIO94q"
      }
    },
    {
      "cell_type": "code",
      "execution_count": null,
      "metadata": {
        "id": "2Tfx4YMf5DIp"
      },
      "outputs": [],
      "source": [
        "!pip install --upgrade google-api-python-client;"
      ]
    },
    {
      "cell_type": "code",
      "source": [
        "from googleapiclient.discovery import build"
      ],
      "metadata": {
        "id": "4Si0A_4V5_Qh"
      },
      "execution_count": 105,
      "outputs": []
    },
    {
      "cell_type": "code",
      "source": [
        "#Os passos para obter uma key para a API podem ser vistos nesse vídeo do canal Programação Dinâmica: https://www.youtube.com/watch?v=olDCJ1w3FLM\n",
        "youtubeApiKey = \"XXXXXXXXXXXX\"\n",
        "\n",
        "youtube = build('youtube','v3', developerKey=youtubeApiKey)"
      ],
      "metadata": {
        "id": "9SygpdpK7U_P"
      },
      "execution_count": 106,
      "outputs": []
    },
    {
      "cell_type": "code",
      "source": [
        "#extraindo dados de uma playlist\n",
        "playlistId = 'PL2155euLw9DN6EU2zBTlDj8-q572aZv7w' #Foo the Flowerhorn playlist\n",
        "playlistName = 'Flowerhorn'\n",
        "nextPage_token = None"
      ],
      "metadata": {
        "id": "gXt80ZU59TD2"
      },
      "execution_count": 107,
      "outputs": []
    },
    {
      "cell_type": "code",
      "source": [
        "playlist_videos = []\n",
        "\n",
        "# Acessa os vídeos da playlist de Flowerhorn, retorna uma lista de JSONs\n",
        "res = youtube.playlistItems().list(part='snippet', playlistId = playlistId, maxResults=50).execute()\n",
        "playlist_videos =res ['items']\n",
        "\n",
        "#Extrai os ids dos vídeos da playlist\n",
        "video_ids = list(map(lambda x: x['snippet']['resourceId']['videoId'], playlist_videos))\n",
        "video_ids;"
      ],
      "metadata": {
        "id": "-U64fA8--DNA"
      },
      "execution_count": 108,
      "outputs": []
    },
    {
      "cell_type": "code",
      "source": [
        "#Criar uma nova lista JSON, com estatísticas importantes dos vídeos da playlist.\n",
        "stats = []\n",
        "\n",
        "for video_id in video_ids:\n",
        "\n",
        "  lista_videos = youtube.videos().list(part='statistics', id=video_id).execute()\n",
        "  stats += lista_videos['items']\n",
        "\n",
        "stats"
      ],
      "metadata": {
        "id": "3nt_sDrYGPXg"
      },
      "execution_count": null,
      "outputs": []
    },
    {
      "cell_type": "code",
      "source": [
        "video_titles = list(map(lambda x: x['snippet']['title'], playlist_videos))\n",
        "thumb_urls = list(map(lambda x: x['snippet']['thumbnails']['high']['url'], playlist_videos))\n",
        "video_titles = list(map(lambda x: x['snippet']['title'], playlist_videos))\n",
        "published_date = list(map(lambda x: x['snippet']['publishedAt'], playlist_videos))\n",
        "video_description = list(map(lambda x: x['snippet']['description'], playlist_videos))"
      ],
      "metadata": {
        "id": "-gg8Qw0yIcR4"
      },
      "execution_count": 110,
      "outputs": []
    },
    {
      "cell_type": "code",
      "source": [
        "views = list(map(lambda x: int(x['statistics']['viewCount']), stats))\n",
        "liked = list(map(lambda x: int(x['statistics']['likeCount']), stats))\n",
        "#Antes era possível acessar as stats sobre dislikes. Mas o Youtube retirou a visibilidade dessa info e a API refletiu tal mudança.\n",
        "comments = list(map(lambda x: int(x['statistics']['commentCount']), stats))\n",
        "liked_view_ratio = list(map(lambda x: 100*(x[0]/x[1]), zip(liked, views)))  #fiz esse por curiosidade, mas o ratio é mtt baixo pra quase todos os vídeos =("
      ],
      "metadata": {
        "id": "TWivqJijDjUF"
      },
      "execution_count": 111,
      "outputs": []
    },
    {
      "cell_type": "code",
      "source": [
        "from datetime import datetime\n",
        "\n",
        "extraction_date = [str(datetime.now())]*len(video_ids)"
      ],
      "metadata": {
        "id": "uf-lsPWeMsfV"
      },
      "execution_count": 112,
      "outputs": []
    },
    {
      "cell_type": "markdown",
      "source": [
        "**Finalmente, colocando os dados extraídos da playlist num dataframe usando Pandas**\n"
      ],
      "metadata": {
        "id": "-7Dfr-RbOeHZ"
      }
    },
    {
      "cell_type": "code",
      "source": [
        "import pandas as pd\n",
        "foo_playlist_df = pd.DataFrame({\n",
        "    'title':video_titles,\n",
        "    'video_id':video_ids,\n",
        "    'published_date':published_date,\n",
        "    'extraction_date':extraction_date,\n",
        "    'views':views,\n",
        "    'likes':liked,\n",
        "    'comments_count':comments,\n",
        "    'liked_to_view_ratio':liked_view_ratio,\n",
        "    'thumbnail':thumb_urls\n",
        "})\n",
        "\n",
        "foo_playlist_df.head()"
      ],
      "metadata": {
        "colab": {
          "base_uri": "https://localhost:8080/",
          "height": 617
        },
        "id": "tNAVKbNLNBZR",
        "outputId": "9aeba16e-07ac-453f-8db2-c2bc146ad8f5"
      },
      "execution_count": 113,
      "outputs": [
        {
          "output_type": "execute_result",
          "data": {
            "text/plain": [
              "                                               title     video_id  \\\n",
              "0  No Filter, No CO2, No Ferts Bowl - 6 Months Gr...  6G5LgVj1sKM   \n",
              "1  No Filter, No CO2, No Ferts, Mini Planted Tank...  TYrqG3ORTGo   \n",
              "2  Update - No Filter, No CO2, No Ferts, Mini Pla...  sWpYpM_7DVo   \n",
              "3  Tutorial - No Filter, No CO2, No Ferts, Window...  fA4ghk0vDqM   \n",
              "4  No Filter No CO2 No Ferts Bowl - EXPLAINED and...  NbOrGRhfdL0   \n",
              "\n",
              "         published_date             extraction_date    views  likes  \\\n",
              "0  2017-09-04T03:54:41Z  2022-03-26 22:43:04.494538  2361172  33637   \n",
              "1  2017-09-04T03:55:01Z  2022-03-26 22:43:04.494538   896164   9996   \n",
              "2  2017-09-04T03:55:31Z  2022-03-26 22:43:04.494538   533066   4400   \n",
              "3  2017-09-04T03:55:42Z  2022-03-26 22:43:04.494538  1241880  16081   \n",
              "4  2017-09-04T03:55:58Z  2022-03-26 22:43:04.494538   959387  26408   \n",
              "\n",
              "   comments_count  liked_to_view_ratio  \\\n",
              "0            1832             1.424589   \n",
              "1             929             1.115421   \n",
              "2             349             0.825414   \n",
              "3             546             1.294892   \n",
              "4            1307             2.752591   \n",
              "\n",
              "                                          thumbnail  \n",
              "0  https://i.ytimg.com/vi/6G5LgVj1sKM/hqdefault.jpg  \n",
              "1  https://i.ytimg.com/vi/TYrqG3ORTGo/hqdefault.jpg  \n",
              "2  https://i.ytimg.com/vi/sWpYpM_7DVo/hqdefault.jpg  \n",
              "3  https://i.ytimg.com/vi/fA4ghk0vDqM/hqdefault.jpg  \n",
              "4  https://i.ytimg.com/vi/NbOrGRhfdL0/hqdefault.jpg  "
            ],
            "text/html": [
              "\n",
              "  <div id=\"df-9f8d25c2-f6b0-40c4-86f1-badfc92013d2\">\n",
              "    <div class=\"colab-df-container\">\n",
              "      <div>\n",
              "<style scoped>\n",
              "    .dataframe tbody tr th:only-of-type {\n",
              "        vertical-align: middle;\n",
              "    }\n",
              "\n",
              "    .dataframe tbody tr th {\n",
              "        vertical-align: top;\n",
              "    }\n",
              "\n",
              "    .dataframe thead th {\n",
              "        text-align: right;\n",
              "    }\n",
              "</style>\n",
              "<table border=\"1\" class=\"dataframe\">\n",
              "  <thead>\n",
              "    <tr style=\"text-align: right;\">\n",
              "      <th></th>\n",
              "      <th>title</th>\n",
              "      <th>video_id</th>\n",
              "      <th>published_date</th>\n",
              "      <th>extraction_date</th>\n",
              "      <th>views</th>\n",
              "      <th>likes</th>\n",
              "      <th>comments_count</th>\n",
              "      <th>liked_to_view_ratio</th>\n",
              "      <th>thumbnail</th>\n",
              "    </tr>\n",
              "  </thead>\n",
              "  <tbody>\n",
              "    <tr>\n",
              "      <th>0</th>\n",
              "      <td>No Filter, No CO2, No Ferts Bowl - 6 Months Gr...</td>\n",
              "      <td>6G5LgVj1sKM</td>\n",
              "      <td>2017-09-04T03:54:41Z</td>\n",
              "      <td>2022-03-26 22:43:04.494538</td>\n",
              "      <td>2361172</td>\n",
              "      <td>33637</td>\n",
              "      <td>1832</td>\n",
              "      <td>1.424589</td>\n",
              "      <td>https://i.ytimg.com/vi/6G5LgVj1sKM/hqdefault.jpg</td>\n",
              "    </tr>\n",
              "    <tr>\n",
              "      <th>1</th>\n",
              "      <td>No Filter, No CO2, No Ferts, Mini Planted Tank...</td>\n",
              "      <td>TYrqG3ORTGo</td>\n",
              "      <td>2017-09-04T03:55:01Z</td>\n",
              "      <td>2022-03-26 22:43:04.494538</td>\n",
              "      <td>896164</td>\n",
              "      <td>9996</td>\n",
              "      <td>929</td>\n",
              "      <td>1.115421</td>\n",
              "      <td>https://i.ytimg.com/vi/TYrqG3ORTGo/hqdefault.jpg</td>\n",
              "    </tr>\n",
              "    <tr>\n",
              "      <th>2</th>\n",
              "      <td>Update - No Filter, No CO2, No Ferts, Mini Pla...</td>\n",
              "      <td>sWpYpM_7DVo</td>\n",
              "      <td>2017-09-04T03:55:31Z</td>\n",
              "      <td>2022-03-26 22:43:04.494538</td>\n",
              "      <td>533066</td>\n",
              "      <td>4400</td>\n",
              "      <td>349</td>\n",
              "      <td>0.825414</td>\n",
              "      <td>https://i.ytimg.com/vi/sWpYpM_7DVo/hqdefault.jpg</td>\n",
              "    </tr>\n",
              "    <tr>\n",
              "      <th>3</th>\n",
              "      <td>Tutorial - No Filter, No CO2, No Ferts, Window...</td>\n",
              "      <td>fA4ghk0vDqM</td>\n",
              "      <td>2017-09-04T03:55:42Z</td>\n",
              "      <td>2022-03-26 22:43:04.494538</td>\n",
              "      <td>1241880</td>\n",
              "      <td>16081</td>\n",
              "      <td>546</td>\n",
              "      <td>1.294892</td>\n",
              "      <td>https://i.ytimg.com/vi/fA4ghk0vDqM/hqdefault.jpg</td>\n",
              "    </tr>\n",
              "    <tr>\n",
              "      <th>4</th>\n",
              "      <td>No Filter No CO2 No Ferts Bowl - EXPLAINED and...</td>\n",
              "      <td>NbOrGRhfdL0</td>\n",
              "      <td>2017-09-04T03:55:58Z</td>\n",
              "      <td>2022-03-26 22:43:04.494538</td>\n",
              "      <td>959387</td>\n",
              "      <td>26408</td>\n",
              "      <td>1307</td>\n",
              "      <td>2.752591</td>\n",
              "      <td>https://i.ytimg.com/vi/NbOrGRhfdL0/hqdefault.jpg</td>\n",
              "    </tr>\n",
              "  </tbody>\n",
              "</table>\n",
              "</div>\n",
              "      <button class=\"colab-df-convert\" onclick=\"convertToInteractive('df-9f8d25c2-f6b0-40c4-86f1-badfc92013d2')\"\n",
              "              title=\"Convert this dataframe to an interactive table.\"\n",
              "              style=\"display:none;\">\n",
              "        \n",
              "  <svg xmlns=\"http://www.w3.org/2000/svg\" height=\"24px\"viewBox=\"0 0 24 24\"\n",
              "       width=\"24px\">\n",
              "    <path d=\"M0 0h24v24H0V0z\" fill=\"none\"/>\n",
              "    <path d=\"M18.56 5.44l.94 2.06.94-2.06 2.06-.94-2.06-.94-.94-2.06-.94 2.06-2.06.94zm-11 1L8.5 8.5l.94-2.06 2.06-.94-2.06-.94L8.5 2.5l-.94 2.06-2.06.94zm10 10l.94 2.06.94-2.06 2.06-.94-2.06-.94-.94-2.06-.94 2.06-2.06.94z\"/><path d=\"M17.41 7.96l-1.37-1.37c-.4-.4-.92-.59-1.43-.59-.52 0-1.04.2-1.43.59L10.3 9.45l-7.72 7.72c-.78.78-.78 2.05 0 2.83L4 21.41c.39.39.9.59 1.41.59.51 0 1.02-.2 1.41-.59l7.78-7.78 2.81-2.81c.8-.78.8-2.07 0-2.86zM5.41 20L4 18.59l7.72-7.72 1.47 1.35L5.41 20z\"/>\n",
              "  </svg>\n",
              "      </button>\n",
              "      \n",
              "  <style>\n",
              "    .colab-df-container {\n",
              "      display:flex;\n",
              "      flex-wrap:wrap;\n",
              "      gap: 12px;\n",
              "    }\n",
              "\n",
              "    .colab-df-convert {\n",
              "      background-color: #E8F0FE;\n",
              "      border: none;\n",
              "      border-radius: 50%;\n",
              "      cursor: pointer;\n",
              "      display: none;\n",
              "      fill: #1967D2;\n",
              "      height: 32px;\n",
              "      padding: 0 0 0 0;\n",
              "      width: 32px;\n",
              "    }\n",
              "\n",
              "    .colab-df-convert:hover {\n",
              "      background-color: #E2EBFA;\n",
              "      box-shadow: 0px 1px 2px rgba(60, 64, 67, 0.3), 0px 1px 3px 1px rgba(60, 64, 67, 0.15);\n",
              "      fill: #174EA6;\n",
              "    }\n",
              "\n",
              "    [theme=dark] .colab-df-convert {\n",
              "      background-color: #3B4455;\n",
              "      fill: #D2E3FC;\n",
              "    }\n",
              "\n",
              "    [theme=dark] .colab-df-convert:hover {\n",
              "      background-color: #434B5C;\n",
              "      box-shadow: 0px 1px 3px 1px rgba(0, 0, 0, 0.15);\n",
              "      filter: drop-shadow(0px 1px 2px rgba(0, 0, 0, 0.3));\n",
              "      fill: #FFFFFF;\n",
              "    }\n",
              "  </style>\n",
              "\n",
              "      <script>\n",
              "        const buttonEl =\n",
              "          document.querySelector('#df-9f8d25c2-f6b0-40c4-86f1-badfc92013d2 button.colab-df-convert');\n",
              "        buttonEl.style.display =\n",
              "          google.colab.kernel.accessAllowed ? 'block' : 'none';\n",
              "\n",
              "        async function convertToInteractive(key) {\n",
              "          const element = document.querySelector('#df-9f8d25c2-f6b0-40c4-86f1-badfc92013d2');\n",
              "          const dataTable =\n",
              "            await google.colab.kernel.invokeFunction('convertToInteractive',\n",
              "                                                     [key], {});\n",
              "          if (!dataTable) return;\n",
              "\n",
              "          const docLinkHtml = 'Like what you see? Visit the ' +\n",
              "            '<a target=\"_blank\" href=https://colab.research.google.com/notebooks/data_table.ipynb>data table notebook</a>'\n",
              "            + ' to learn more about interactive tables.';\n",
              "          element.innerHTML = '';\n",
              "          dataTable['output_type'] = 'display_data';\n",
              "          await google.colab.output.renderOutput(dataTable, element);\n",
              "          const docLink = document.createElement('div');\n",
              "          docLink.innerHTML = docLinkHtml;\n",
              "          element.appendChild(docLink);\n",
              "        }\n",
              "      </script>\n",
              "    </div>\n",
              "  </div>\n",
              "  "
            ]
          },
          "metadata": {},
          "execution_count": 113
        }
      ]
    },
    {
      "cell_type": "code",
      "source": [
        "import numpy as np\n",
        "from sklearn import datasets, linear_model\n",
        "import matplotlib.pyplot as plt\n",
        "import plotly.express as px\n",
        "import plotly.graph_objects as pgo\n",
        "\n",
        "length = len(foo_playlist_df)\n",
        "x = np.arange(length, dtype=float).reshape((length, 1))\n",
        "y = x + (np.random.rand(length)*length).reshape((length,1))\n",
        "\n",
        "x = foo_playlist_df.views.values\n",
        "y = foo_playlist_df.likes.values\n",
        "print(x)"
      ],
      "metadata": {
        "colab": {
          "base_uri": "https://localhost:8080/"
        },
        "id": "TXlc_kZFOP8u",
        "outputId": "337c44d4-b2b3-4687-bb6d-dde45f6a29fc"
      },
      "execution_count": 114,
      "outputs": [
        {
          "output_type": "stream",
          "name": "stdout",
          "text": [
            "[ 2361172   896164   533066  1241880   959387  3080371  2949141  1331276\n",
            "   250954  1346469  1908942 14386850  2999444  7319558  1128346   728950\n",
            "   675042  1153010   576528   515133  2049637   623114   497757  1539724\n",
            "   557763   549397  2052791 12051830 25047369 38500459  7489290  1223076\n",
            "  1820097   764770   564051  1585467]\n"
          ]
        }
      ]
    },
    {
      "cell_type": "code",
      "source": [
        "x = x.reshape(length,1)\n",
        "y = y.reshape(length,1)"
      ],
      "metadata": {
        "id": "mRKe7vJ0SjtG"
      },
      "execution_count": 115,
      "outputs": []
    },
    {
      "cell_type": "code",
      "source": [
        "regr = linear_model.LinearRegression()\n",
        "regr.fit(x, y)\n",
        "\n",
        "plt.scatter(x, y, color='red')\n",
        "plt.plot(x, regr.predict(x), color='blue', linewidth=3)\n",
        "plt.title('likes vs views')\n",
        "plt.xlabel('views')\n",
        "plt.ylabel('likes')\n",
        "plt.show()"
      ],
      "metadata": {
        "colab": {
          "base_uri": "https://localhost:8080/",
          "height": 295
        },
        "id": "MS2J87cnSqh7",
        "outputId": "e16a63c7-514e-435c-ba2b-cf3a54909d58"
      },
      "execution_count": 116,
      "outputs": [
        {
          "output_type": "display_data",
          "data": {
            "text/plain": [
              "<Figure size 432x288 with 1 Axes>"
            ],
            "image/png": "[encoded data removed]"
          },
          "metadata": {
            "needs_background": "light"
          }
        }
      ]
    },
    {
      "cell_type": "markdown",
      "source": [
        "Eu também estava interessado em iniciar no Plotly, ou pelo menor ter uma ideia básica de como funcion a lib. Bom, aparentemente ainda tenho um bom caminho a percorrer já que eu não conseguir fazer nem uma linha de scatter no gráfico abaixo.\n",
        "\n",
        "Mas que é bonito, é."
      ],
      "metadata": {
        "id": "Vio1XbMFZlK6"
      }
    },
    {
      "cell_type": "code",
      "source": [
        "x_range = np.linspace(x.min(), x.max(), 100)\n",
        "y_range = regr.predict(x_range.reshape(-1, 1))\n",
        "\n",
        "\n",
        "fig = px.scatter(foo_playlist_df, x='views', y='likes', opacity=0.65)\n",
        "fig.add_traces(pgo.Scatter(x=x_range, y=y_range, name='Regression Fit'))\n",
        "fig.show()"
      ],
      "metadata": {
        "colab": {
          "base_uri": "https://localhost:8080/",
          "height": 542
        },
        "id": "a2y32BIgUn91",
        "outputId": "2d24b036-9aab-45f3-a435-be144e0c6842"
      },
      "execution_count": 117,
      "outputs": [
        {
          "output_type": "display_data",
          "data": {
            "text/html": [
              "<html>\n",
              "<head><meta charset=\"utf-8\" /></head>\n",
              "<body>\n",
              "    <div>            <script src=\"https://cdnjs.cloudflare.com/ajax/libs/mathjax/2.7.5/MathJax.js?config=TeX-AMS-MML_SVG\"></script><script type=\"text/javascript\">if (window.MathJax) {MathJax.Hub.Config({SVG: {font: \"STIX-Web\"}});}</script>                <script type=\"text/javascript\">window.PlotlyConfig = {MathJaxConfig: 'local'};</script>\n",
              "        <script src=\"https://cdn.plot.ly/plotly-2.8.3.min.js\"></script>                <div id=\"2dd825f1-06aa-420a-8011-69d3baffe330\" class=\"plotly-graph-div\" style=\"height:525px; width:100%;\"></div>            <script type=\"text/javascript\">                                    window.PLOTLYENV=window.PLOTLYENV || {};                                    if (document.getElementById(\"2dd825f1-06aa-420a-8011-69d3baffe330\")) {                    Plotly.newPlot(                        \"2dd825f1-06aa-420a-8011-69d3baffe330\",                        [{\"hovertemplate\":\"views=%{x}<br>likes=%{y}<extra></extra>\",\"legendgroup\":\"\",\"marker\":{\"color\":\"#636efa\",\"opacity\":0.65,\"symbol\":\"circle\"},\"mode\":\"markers\",\"name\":\"\",\"orientation\":\"v\",\"showlegend\":false,\"x\":[2361172,896164,533066,1241880,959387,3080371,2949141,1331276,250954,1346469,1908942,14386850,2999444,7319558,1128346,728950,675042,1153010,576528,515133,2049637,623114,497757,1539724,557763,549397,2052791,12051830,25047369,38500459,7489290,1223076,1820097,764770,564051,1585467],\"xaxis\":\"x\",\"y\":[33637,9996,4400,16081,26408,37557,38546,21551,4454,20209,27122,244706,55930,97197,20612,14749,14183,34446,13058,11645,31132,11720,9657,21951,11641,10866,39605,130013,303518,462630,124416,39988,45750,31374,25757,40262],\"yaxis\":\"y\",\"type\":\"scatter\"},{\"name\":\"Regression Fit\",\"x\":[250954.0,637312.6363636364,1023671.2727272727,1410029.9090909092,1796388.5454545454,2182747.1818181816,2569105.8181818184,2955464.4545454546,3341823.090909091,3728181.727272727,4114540.3636363633,4500899.0,4887257.636363637,5273616.2727272725,5659974.909090909,6046333.545454545,6432692.181818182,6819050.818181818,7205409.454545454,7591768.090909091,7978126.727272727,8364485.363636363,8750844.0,9137202.636363637,9523561.272727273,9909919.909090908,10296278.545454545,10682637.181818182,11068995.818181818,11455354.454545455,11841713.09090909,12228071.727272727,12614430.363636363,13000789.0,13387147.636363637,13773506.272727272,14159864.909090908,14546223.545454545,14932582.181818182,15318940.818181818,15705299.454545453,16091658.09090909,16478016.727272727,16864375.363636363,17250734.0,17637092.636363637,18023451.272727273,18409809.90909091,18796168.545454547,19182527.18181818,19568885.818181816,19955244.454545453,20341603.09090909,20727961.727272727,21114320.363636363,21500679.0,21887037.636363637,22273396.272727273,22659754.90909091,23046113.545454543,23432472.18181818,23818830.818181816,24205189.454545453,24591548.09090909,24977906.727272727,25364265.363636363,25750624.0,26136982.636363637,26523341.272727273,26909699.90909091,27296058.545454543,27682417.18181818,28068775.818181816,28455134.454545453,28841493.09090909,29227851.727272727,29614210.363636363,30000569.0,30386927.636363637,30773286.272727273,31159644.909090906,31546003.545454543,31932362.18181818,32318720.818181816,32705079.454545453,33091438.09090909,33477796.727272727,33864155.36363636,34250514.0,34636872.63636363,35023231.27272727,35409589.90909091,35795948.54545455,36182307.18181818,36568665.81818182,36955024.45454545,37341383.09090909,37727741.72727273,38114100.36363636,38500459.0],\"y\":[[12894.753655388238],[17565.22089674155],[22235.688138094858],[26906.15537944817],[31576.622620801478],[36247.08986215478],[40917.5571035081],[45588.024344861406],[50258.49158621472],[54928.95882756803],[59599.42606892133],[64269.893310274645],[68940.36055162796],[73610.82779298126],[78281.29503433459],[82951.76227568788],[87622.22951704118],[92292.69675839451],[96963.1639997478],[101633.63124110113],[106304.09848245443],[110974.56572380775],[115645.03296516105],[120315.50020651438],[124985.96744786768],[129656.43468922097],[134326.9019305743],[138997.3691719276],[143667.83641328092],[148338.30365463422],[153008.77089598752],[157679.23813734084],[162349.70537869414],[167020.17262004747],[171690.63986140076],[176361.10710275406],[181031.5743441074],[185702.04158546068],[190372.508826814],[195042.97606816734],[199713.4433095206],[204383.91055087393],[209054.37779222723],[213724.84503358055],[218395.31227493388],[223065.77951628718],[227736.2467576405],[232406.7139989938],[237077.18124034713],[241747.6484817004],[246418.11572305372],[251088.58296440702],[255759.05020576034],[260429.51744711364],[265099.984688467],[269770.4519298203],[274440.9191711736],[279111.3864125269],[283781.85365388024],[288452.3208952335],[293122.7881365868],[297793.25537794014],[302463.72261929343],[307134.18986064673],[311804.6571020001],[316475.1243433534],[321145.5915847067],[325816.05882606],[330486.52606741333],[335156.9933087666],[339827.4605501199],[344497.9277914732],[349168.3950328265],[353838.8622741798],[358509.3295155332],[363179.79675688647],[367850.26399823977],[372520.7312395931],[377191.1984809464],[381861.6657222997],[386532.132963653],[391202.6002050063],[395873.0674463596],[400543.53468771296],[405214.00192906626],[409884.46917041956],[414554.93641177285],[419225.40365312615],[423895.8708944795],[428566.3381358328],[433236.80537718616],[437907.2726185394],[442577.73985989275],[447248.20710124605],[451918.6743425994],[456589.14158395265],[461259.608825306],[465930.0760666593],[470600.54330801254],[475271.0105493659]],\"type\":\"scatter\"}],                        {\"template\":{\"data\":{\"bar\":[{\"error_x\":{\"color\":\"#2a3f5f\"},\"error_y\":{\"color\":\"#2a3f5f\"},\"marker\":{\"line\":{\"color\":\"#E5ECF6\",\"width\":0.5},\"pattern\":{\"fillmode\":\"overlay\",\"size\":10,\"solidity\":0.2}},\"type\":\"bar\"}],\"barpolar\":[{\"marker\":{\"line\":{\"color\":\"#E5ECF6\",\"width\":0.5},\"pattern\":{\"fillmode\":\"overlay\",\"size\":10,\"solidity\":0.2}},\"type\":\"barpolar\"}],\"carpet\":[{\"aaxis\":{\"endlinecolor\":\"#2a3f5f\",\"gridcolor\":\"white\",\"linecolor\":\"white\",\"minorgridcolor\":\"white\",\"startlinecolor\":\"#2a3f5f\"},\"baxis\":{\"endlinecolor\":\"#2a3f5f\",\"gridcolor\":\"white\",\"linecolor\":\"white\",\"minorgridcolor\":\"white\",\"startlinecolor\":\"#2a3f5f\"},\"type\":\"carpet\"}],\"choropleth\":[{\"colorbar\":{\"outlinewidth\":0,\"ticks\":\"\"},\"type\":\"choropleth\"}],\"contour\":[{\"colorbar\":{\"outlinewidth\":0,\"ticks\":\"\"},\"colorscale\":[[0.0,\"#0d0887\"],[0.1111111111111111,\"#46039f\"],[0.2222222222222222,\"#7201a8\"],[0.3333333333333333,\"#9c179e\"],[0.4444444444444444,\"#bd3786\"],[0.5555555555555556,\"#d8576b\"],[0.6666666666666666,\"#ed7953\"],[0.7777777777777778,\"#fb9f3a\"],[0.8888888888888888,\"#fdca26\"],[1.0,\"#f0f921\"]],\"type\":\"contour\"}],\"contourcarpet\":[{\"colorbar\":{\"outlinewidth\":0,\"ticks\":\"\"},\"type\":\"contourcarpet\"}],\"heatmap\":[{\"colorbar\":{\"outlinewidth\":0,\"ticks\":\"\"},\"colorscale\":[[0.0,\"#0d0887\"],[0.1111111111111111,\"#46039f\"],[0.2222222222222222,\"#7201a8\"],[0.3333333333333333,\"#9c179e\"],[0.4444444444444444,\"#bd3786\"],[0.5555555555555556,\"#d8576b\"],[0.6666666666666666,\"#ed7953\"],[0.7777777777777778,\"#fb9f3a\"],[0.8888888888888888,\"#fdca26\"],[1.0,\"#f0f921\"]],\"type\":\"heatmap\"}],\"heatmapgl\":[{\"colorbar\":{\"outlinewidth\":0,\"ticks\":\"\"},\"colorscale\":[[0.0,\"#0d0887\"],[0.1111111111111111,\"#46039f\"],[0.2222222222222222,\"#7201a8\"],[0.3333333333333333,\"#9c179e\"],[0.4444444444444444,\"#bd3786\"],[0.5555555555555556,\"#d8576b\"],[0.6666666666666666,\"#ed7953\"],[0.7777777777777778,\"#fb9f3a\"],[0.8888888888888888,\"#fdca26\"],[1.0,\"#f0f921\"]],\"type\":\"heatmapgl\"}],\"histogram\":[{\"marker\":{\"pattern\":{\"fillmode\":\"overlay\",\"size\":10,\"solidity\":0.2}},\"type\":\"histogram\"}],\"histogram2d\":[{\"colorbar\":{\"outlinewidth\":0,\"ticks\":\"\"},\"colorscale\":[[0.0,\"#0d0887\"],[0.1111111111111111,\"#46039f\"],[0.2222222222222222,\"#7201a8\"],[0.3333333333333333,\"#9c179e\"],[0.4444444444444444,\"#bd3786\"],[0.5555555555555556,\"#d8576b\"],[0.6666666666666666,\"#ed7953\"],[0.7777777777777778,\"#fb9f3a\"],[0.8888888888888888,\"#fdca26\"],[1.0,\"#f0f921\"]],\"type\":\"histogram2d\"}],\"histogram2dcontour\":[{\"colorbar\":{\"outlinewidth\":0,\"ticks\":\"\"},\"colorscale\":[[0.0,\"#0d0887\"],[0.1111111111111111,\"#46039f\"],[0.2222222222222222,\"#7201a8\"],[0.3333333333333333,\"#9c179e\"],[0.4444444444444444,\"#bd3786\"],[0.5555555555555556,\"#d8576b\"],[0.6666666666666666,\"#ed7953\"],[0.7777777777777778,\"#fb9f3a\"],[0.8888888888888888,\"#fdca26\"],[1.0,\"#f0f921\"]],\"type\":\"histogram2dcontour\"}],\"mesh3d\":[{\"colorbar\":{\"outlinewidth\":0,\"ticks\":\"\"},\"type\":\"mesh3d\"}],\"parcoords\":[{\"line\":{\"colorbar\":{\"outlinewidth\":0,\"ticks\":\"\"}},\"type\":\"parcoords\"}],\"pie\":[{\"automargin\":true,\"type\":\"pie\"}],\"scatter\":[{\"marker\":{\"colorbar\":{\"outlinewidth\":0,\"ticks\":\"\"}},\"type\":\"scatter\"}],\"scatter3d\":[{\"line\":{\"colorbar\":{\"outlinewidth\":0,\"ticks\":\"\"}},\"marker\":{\"colorbar\":{\"outlinewidth\":0,\"ticks\":\"\"}},\"type\":\"scatter3d\"}],\"scattercarpet\":[{\"marker\":{\"colorbar\":{\"outlinewidth\":0,\"ticks\":\"\"}},\"type\":\"scattercarpet\"}],\"scattergeo\":[{\"marker\":{\"colorbar\":{\"outlinewidth\":0,\"ticks\":\"\"}},\"type\":\"scattergeo\"}],\"scattergl\":[{\"marker\":{\"colorbar\":{\"outlinewidth\":0,\"ticks\":\"\"}},\"type\":\"scattergl\"}],\"scattermapbox\":[{\"marker\":{\"colorbar\":{\"outlinewidth\":0,\"ticks\":\"\"}},\"type\":\"scattermapbox\"}],\"scatterpolar\":[{\"marker\":{\"colorbar\":{\"outlinewidth\":0,\"ticks\":\"\"}},\"type\":\"scatterpolar\"}],\"scatterpolargl\":[{\"marker\":{\"colorbar\":{\"outlinewidth\":0,\"ticks\":\"\"}},\"type\":\"scatterpolargl\"}],\"scatterternary\":[{\"marker\":{\"colorbar\":{\"outlinewidth\":0,\"ticks\":\"\"}},\"type\":\"scatterternary\"}],\"surface\":[{\"colorbar\":{\"outlinewidth\":0,\"ticks\":\"\"},\"colorscale\":[[0.0,\"#0d0887\"],[0.1111111111111111,\"#46039f\"],[0.2222222222222222,\"#7201a8\"],[0.3333333333333333,\"#9c179e\"],[0.4444444444444444,\"#bd3786\"],[0.5555555555555556,\"#d8576b\"],[0.6666666666666666,\"#ed7953\"],[0.7777777777777778,\"#fb9f3a\"],[0.8888888888888888,\"#fdca26\"],[1.0,\"#f0f921\"]],\"type\":\"surface\"}],\"table\":[{\"cells\":{\"fill\":{\"color\":\"#EBF0F8\"},\"line\":{\"color\":\"white\"}},\"header\":{\"fill\":{\"color\":\"#C8D4E3\"},\"line\":{\"color\":\"white\"}},\"type\":\"table\"}]},\"layout\":{\"annotationdefaults\":{\"arrowcolor\":\"#2a3f5f\",\"arrowhead\":0,\"arrowwidth\":1},\"autotypenumbers\":\"strict\",\"coloraxis\":{\"colorbar\":{\"outlinewidth\":0,\"ticks\":\"\"}},\"colorscale\":{\"diverging\":[[0,\"#8e0152\"],[0.1,\"#c51b7d\"],[0.2,\"#de77ae\"],[0.3,\"#f1b6da\"],[0.4,\"#fde0ef\"],[0.5,\"#f7f7f7\"],[0.6,\"#e6f5d0\"],[0.7,\"#b8e186\"],[0.8,\"#7fbc41\"],[0.9,\"#4d9221\"],[1,\"#276419\"]],\"sequential\":[[0.0,\"#0d0887\"],[0.1111111111111111,\"#46039f\"],[0.2222222222222222,\"#7201a8\"],[0.3333333333333333,\"#9c179e\"],[0.4444444444444444,\"#bd3786\"],[0.5555555555555556,\"#d8576b\"],[0.6666666666666666,\"#ed7953\"],[0.7777777777777778,\"#fb9f3a\"],[0.8888888888888888,\"#fdca26\"],[1.0,\"#f0f921\"]],\"sequentialminus\":[[0.0,\"#0d0887\"],[0.1111111111111111,\"#46039f\"],[0.2222222222222222,\"#7201a8\"],[0.3333333333333333,\"#9c179e\"],[0.4444444444444444,\"#bd3786\"],[0.5555555555555556,\"#d8576b\"],[0.6666666666666666,\"#ed7953\"],[0.7777777777777778,\"#fb9f3a\"],[0.8888888888888888,\"#fdca26\"],[1.0,\"#f0f921\"]]},\"colorway\":[\"#636efa\",\"#EF553B\",\"#00cc96\",\"#ab63fa\",\"#FFA15A\",\"#19d3f3\",\"#FF6692\",\"#B6E880\",\"#FF97FF\",\"#FECB52\"],\"font\":{\"color\":\"#2a3f5f\"},\"geo\":{\"bgcolor\":\"white\",\"lakecolor\":\"white\",\"landcolor\":\"#E5ECF6\",\"showlakes\":true,\"showland\":true,\"subunitcolor\":\"white\"},\"hoverlabel\":{\"align\":\"left\"},\"hovermode\":\"closest\",\"mapbox\":{\"style\":\"light\"},\"paper_bgcolor\":\"white\",\"plot_bgcolor\":\"#E5ECF6\",\"polar\":{\"angularaxis\":{\"gridcolor\":\"white\",\"linecolor\":\"white\",\"ticks\":\"\"},\"bgcolor\":\"#E5ECF6\",\"radialaxis\":{\"gridcolor\":\"white\",\"linecolor\":\"white\",\"ticks\":\"\"}},\"scene\":{\"xaxis\":{\"backgroundcolor\":\"#E5ECF6\",\"gridcolor\":\"white\",\"gridwidth\":2,\"linecolor\":\"white\",\"showbackground\":true,\"ticks\":\"\",\"zerolinecolor\":\"white\"},\"yaxis\":{\"backgroundcolor\":\"#E5ECF6\",\"gridcolor\":\"white\",\"gridwidth\":2,\"linecolor\":\"white\",\"showbackground\":true,\"ticks\":\"\",\"zerolinecolor\":\"white\"},\"zaxis\":{\"backgroundcolor\":\"#E5ECF6\",\"gridcolor\":\"white\",\"gridwidth\":2,\"linecolor\":\"white\",\"showbackground\":true,\"ticks\":\"\",\"zerolinecolor\":\"white\"}},\"shapedefaults\":{\"line\":{\"color\":\"#2a3f5f\"}},\"ternary\":{\"aaxis\":{\"gridcolor\":\"white\",\"linecolor\":\"white\",\"ticks\":\"\"},\"baxis\":{\"gridcolor\":\"white\",\"linecolor\":\"white\",\"ticks\":\"\"},\"bgcolor\":\"#E5ECF6\",\"caxis\":{\"gridcolor\":\"white\",\"linecolor\":\"white\",\"ticks\":\"\"}},\"title\":{\"x\":0.05},\"xaxis\":{\"automargin\":true,\"gridcolor\":\"white\",\"linecolor\":\"white\",\"ticks\":\"\",\"title\":{\"standoff\":15},\"zerolinecolor\":\"white\",\"zerolinewidth\":2},\"yaxis\":{\"automargin\":true,\"gridcolor\":\"white\",\"linecolor\":\"white\",\"ticks\":\"\",\"title\":{\"standoff\":15},\"zerolinecolor\":\"white\",\"zerolinewidth\":2}}},\"xaxis\":{\"anchor\":\"y\",\"domain\":[0.0,1.0],\"title\":{\"text\":\"views\"}},\"yaxis\":{\"anchor\":\"x\",\"domain\":[0.0,1.0],\"title\":{\"text\":\"likes\"}},\"legend\":{\"tracegroupgap\":0},\"margin\":{\"t\":60}},                        {\"responsive\": true}                    ).then(function(){\n",
              "                            \n",
              "var gd = document.getElementById('2dd825f1-06aa-420a-8011-69d3baffe330');\n",
              "var x = new MutationObserver(function (mutations, observer) {{\n",
              "        var display = window.getComputedStyle(gd).display;\n",
              "        if (!display || display === 'none') {{\n",
              "            console.log([gd, 'removed!']);\n",
              "            Plotly.purge(gd);\n",
              "            observer.disconnect();\n",
              "        }}\n",
              "}});\n",
              "\n",
              "// Listen for the removal of the full notebook cells\n",
              "var notebookContainer = gd.closest('#notebook-container');\n",
              "if (notebookContainer) {{\n",
              "    x.observe(notebookContainer, {childList: true});\n",
              "}}\n",
              "\n",
              "// Listen for the clearing of the current output cell\n",
              "var outputEl = gd.closest('.output');\n",
              "if (outputEl) {{\n",
              "    x.observe(outputEl, {childList: true});\n",
              "}}\n",
              "\n",
              "                        })                };                            </script>        </div>\n",
              "</body>\n",
              "</html>"
            ]
          },
          "metadata": {}
        }
      ]
    },
    {
      "cell_type": "code",
      "source": [
        "r_sq = regr.score(x, y)\n",
        "print('coefficient of determination:', r_sq)"
      ],
      "metadata": {
        "colab": {
          "base_uri": "https://localhost:8080/"
        },
        "id": "XlHFq_9tTSzR",
        "outputId": "bfe2eac8-2baa-4d1d-9d90-7a5a0ec371da"
      },
      "execution_count": 118,
      "outputs": [
        {
          "output_type": "stream",
          "name": "stdout",
          "text": [
            "coefficient of determination: 0.9769295151469055\n"
          ]
        }
      ]
    }
  ]
}
